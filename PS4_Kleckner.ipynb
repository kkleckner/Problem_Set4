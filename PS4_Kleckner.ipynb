{
 "cells": [
  {
   "cell_type": "markdown",
   "id": "1af706b5-bd16-4694-83f3-c9ea0141659c",
   "metadata": {},
   "source": [
    "# Problem Set 4 - Kaylin Kleckner\n",
    "\n",
    "I used the API Xeno-canto (https://xeno-canto.org/explore/api), which is used to share wildlife sounds from around the world. I pulled data of bird song recordings in Italy and mapped where these recordings took place.\n"
   ]
  },
  {
   "cell_type": "markdown",
   "id": "1fcd0a57-2ad2-4bbc-8873-922874d64487",
   "metadata": {},
   "source": [
    "## API\n",
    "\n",
    "First, I used the `requests` module to pull in data for the recordings in Italy."
   ]
  },
  {
   "cell_type": "code",
   "execution_count": 1,
   "id": "316f1cae-fb37-4dfc-a8cc-c7ddbdfa111e",
   "metadata": {},
   "outputs": [
    {
     "name": "stdout",
     "output_type": "stream",
     "text": [
      "{'id': '652482', 'gen': 'Colinus', 'sp': 'virginianus', 'ssp': '', 'group': 'birds', 'en': 'Northern Bobwhite', 'rec': 'Francesco Sottile', 'cnt': 'Italy', 'loc': 'Lonate Pozzolo, Provincia di Varese, Lombardia', 'lat': '45.5663', 'lng': '8.7347', 'alt': '190', 'type': 'song', 'sex': 'male', 'stage': 'adult', 'method': 'field recording', 'url': '//xeno-canto.org/652482', 'file': 'https://xeno-canto.org/652482/download', 'file-name': 'XC652482-Colino della Virginia_disputa canora_0516_1027.mp3', 'sono': {'small': '//xeno-canto.org/sounds/uploaded/ITHRUQEQCF/ffts/XC652482-small.png', 'med': '//xeno-canto.org/sounds/uploaded/ITHRUQEQCF/ffts/XC652482-med.png', 'large': '//xeno-canto.org/sounds/uploaded/ITHRUQEQCF/ffts/XC652482-large.png', 'full': '//xeno-canto.org/sounds/uploaded/ITHRUQEQCF/ffts/XC652482-full.png'}, 'osci': {'small': '//xeno-canto.org/sounds/uploaded/ITHRUQEQCF/wave/XC652482-small.png', 'med': '//xeno-canto.org/sounds/uploaded/ITHRUQEQCF/wave/XC652482-med.png', 'large': '//xeno-canto.org/sounds/uploaded/ITHRUQEQCF/wave/XC652482-large.png'}, 'lic': '//creativecommons.org/licenses/by-nc-sa/4.0/', 'q': 'A', 'length': '1:03', 'time': '10:27', 'date': '2021-05-16', 'uploaded': '2021-05-28', 'also': ['Luscinia megarhynchos', 'Hippolais polyglotta'], 'rmk': 'Individuals in acoustic competition. ', 'bird-seen': 'no', 'animal-seen': 'no', 'playback-used': 'no', 'temp': '', 'regnr': '', 'auto': 'no', 'dvc': '', 'mic': '', 'smp': '44100'}\n"
     ]
    }
   ],
   "source": [
    "import requests #load module\n",
    "\n",
    "response = requests.get(\"https://www.xeno-canto.org/api/2/recordings?query=cnt:italy\") #url species recordings for Italy using \"cnt:italy\"\n",
    "\n",
    "#The recording information was formatted in a list of dictionaries, so to untangle this formatting I pulled only recording info\n",
    "\n",
    "recordings = response.json()[\"recordings\"] \n",
    "\n",
    "print(recordings[0]) #an example of one entry, as a single dictionary (indicated by curly brackets)"
   ]
  },
  {
   "cell_type": "markdown",
   "id": "5f8f5c53-20f2-46ae-8bc3-14bdce86722c",
   "metadata": {},
   "source": [
    "### Latitude:\n",
    "\n",
    "I extracted the latitude and longitude recorded for all 499 entries. I saved each as seperate csv files using the `csv` module."
   ]
  },
  {
   "cell_type": "code",
   "execution_count": 2,
   "id": "842664b2-e630-4c12-9b44-2a5f5ac35e75",
   "metadata": {
    "tags": []
   },
   "outputs": [
    {
     "name": "stdout",
     "output_type": "stream",
     "text": [
      "[45.5663, 45.5651, 45.5668, 45.5647, 39.8335, 46.0312, 45.68, 45.7894, 46.4155, 45.693, 46.0922, 45.9106, 42.7989, 42.7717, 42.908, 45.477, 42.7717, 42.7774, 46.646, 46.087, 46.087, 46.7294, 45.573, 43.049, 42.4019, 42.4019, 44.124, 39.4014, 43.6632, 44.1391, 39.8625, 45.5709, 45.368, 40.5514, 45.368, 42.779, 42.779, 37.6984, 46.009, 42.78, 45.6385, 42.4019, 42.827, 42.7759, 44.9716, 39.3501, 45.731, 45.4504, 43.7823, 45.1797, 43.6915, 43.7869, 44.9007, 42.9037, 44.419, 44.4241, 45.4859, 44.7192, 42.5559, 42.8989, 45.5564, 43.8388, 42.7871, 45.4708, 42.78, 42.806, 44.6347, 45.9977, 42.7856, 45.4396, 43.6839, 42.679, 42.7681, 42.7681, 44.9031, 44.6433, 42.6828, 42.6828, 42.6828, 42.679, 42.7681, 44.7968, 43.8287, 45.5959, 45.6027, 45.6016, 44.6395, 44.6433, 44.9045, 45.6582, 42.6915, 44.7968, 44.6433, 45.6595, 45.6582, 45.6518, 45.4539, 45.4653, 45.6581, 44.9593, 45.6577, 45.3547, 44.3137, 42.4862, 42.9037, 45.4913, 42.4862, 45.4911, 45.4425, 45.8015, 45.5927, 42.8399, 42.8399, 42.8399, 42.8399, 45.1945, 42.8776, 42.4862, 42.9037, 44.9697, 42.9037, 42.9037, 41.9555, 45.368, 44.9696, 45.025, 42.7681, 36.7986, 36.7986, 44.8951, 42.7698, 42.9037, 42.9037, 42.6732, 42.6732, 41.4105, 42.9037, 42.7692, 44.4274, 45.6646, 39.3808, 45.6559, 45.1097, 45.1097, 45.4394, 42.8776, 42.9037, 42.8382, 45.368, 44.4244, 45.4758, 42.7397, 42.8989, 44.2704, 45.5619, 45.5619, 44.3137, 44.3137, 44.3137, 42.7688, 42.4862, 42.4862, 42.4862, 42.4862, 42.7692, 42.7688, 42.9037, 45.368, 42.9037, 44.9697, 42.9037, 45.2772, 42.7688, 42.7688, 42.7688, 42.9037, 44.8929, 42.7692, 42.7692, 42.7692, 45.7954, 39.2427, 44.7935, 45.808, 45.6446, 45.6439, 45.437, 45.5631, 42.8399, 42.8399, 45.564, 45.437, 45.9694, 45.6395, 45.768, 45.6578, 45.5193, 44.8278, 45.842, 39.4374, 45.7551, 45.1095, 45.4708, 45.4708, 45.4708, 45.4708, 45.4708, 44.8278, 44.7861, 39.2817, 37.6541, 45.588, 45.5882, 45.5881, 42.6001, 45.3617, 42.701, 40.0706, 39.297, 39.297, 45.678, 43.7823, 39.6559, 39.3147, 38.5645, 39.2501, 42.421, 45.0505, 42.4209, 42.4042, 42.0887, 42.0887, 44.8458, 45.0505, 45.5714, 39.3122, 45.568, 44.6423, 39.2608, 46.0679, 39.2607, 44.302, 43.4659, 39.4196, 45.368, 43.65, 44.4246, 44.4246, 43.7844, 39.3226, 45.0505, 45.4409, 45.7249, 41.1122, 42.8594, 39.1339, 43.074, 40.8897, 40.6281, 38.1236, 45.4367, 45.1343, 39.4199, 46.017, 46.017, 45.4708, 40.8284, 40.8284, 40.8284, 39.2708, 39.3444, 39.2917, 39.2922, 44.8458, 46.068, 39.8078, 39.9736, 45.6564, 44.8456, 38.0127, 44.4074, 39.2507, 39.2557, 39.3393, 39.3393, 37.6541, 39.3236, 40.899, 41.3538, 36.7867, 41.8902, 46.0614, 39.3787, 42.7883, 42.7883, 42.7883, 42.7883, 42.611, 43.6575, 42.7883, 42.7883, 42.7883, 42.6001, 42.6001, 42.4862, 45.368, 42.6001, 42.4862, 41.4127, 45.5308, 42.829, 45.66, 42.829, 45.7907, 46.0324, 45.4708, 45.6851, 45.5541, 45.5541, 45.5978, 41.3265, 43.8381, 45.4562, 45.4708, 46.5221, 46.5221, 46.0113, 42.5553, 45.368, 45.4708, 46.0711, 45.7836, 45.2191, 45.6502, 45.4053, 42.7589, 42.8146, 44.3137, 45.4708, 44.3137, 45.4708, 42.6192, 39.9057, 39.4207, 39.4201202817481, 42.6001, 42.7527, 42.7397, 42.7387, 39.8973, 42.7572, 45.437, 39.3489551791395, 42.6192, 42.7572, 40.0707, 45.4849, 42.701, 41.867, 45.6382, 38.9574, 37.5209, 42.829, 45.6391, 42.6001, 45.5197, 42.6001, 42.829, 39.9524, 39.5931, 39.4196, 39.4197, 39.5958, 41.7697, 39.4196, 39.5039, 44.4246, 44.4246, 44.4246, 39.4167, 43.8361, 43.8364, 45.4708, 44.8564, 39.9517, 39.3487, 45.4782, 42.6001, 41.7697, 39.266, 39.6912, 42.827, 42.7977, 40.0707, 39.7103, 45.5197, 42.6001, 40.8197, 45.4367, 39.7043, 43.9938, 39.7041, 40.7865, 45.1172, 45.6557, 46.0995, 45.1175, 46.0767, 45.7569, 45.7954, 42.8989, 43.7556, 42.6693, 42.6693, 42.7856, 42.7856, 45.6441, 45.4625, 42.7692, 42.7692, 42.7826, 40.7956, 43.8833, 44.9693, 44.969, 43.8388, 41.9912, 44.617, 45.4546, 42.9037, 42.9037, 42.9037, 44.968, 42.9037, 45.5401, 39.9658, 44.9696, 46.0022, 43.8181, 45.368, 44.9696, 43.8181, 46.0645, 45.6399, 45.6399, 45.6385, 45.7811, 45.6399, 46.0645, 45.8951, 44.5014, 45.6385, 45.8689, 45.6562, 45.8415, 45.656, 45.7666, 44.9697, 42.9037, 42.9037, 42.9037, 45.7954, 44.9693, 45.368, 45.7778, 40.4347, 45.5907, 44.6532, 44.648, 42.4607, 42.7843, 42.9037, 42.9037, 45.368, 36.7986, 42.8382, 42.8146, 42.9037, 45.368, 44.4015, 42.8776, 46.1255, 42.9037, 45.6599, 42.7692, 45.2031, 42.6001, 42.5553, 45.0528, 45.7954, 45.7954, 42.1278, 45.5619, 45.368, 45.368, 43.5485, 42.7688, 43.7553, 42.7688]\n"
     ]
    }
   ],
   "source": [
    "LAT = [] #create empty list\n",
    "\n",
    "\n",
    "for recording in recordings: #loop through each recording\n",
    "    \n",
    "    try:\n",
    "        LAT.append(float(recording[\"lat\"])) #add latitude from each recording to the list as a float\n",
    "    \n",
    "    except:\n",
    "        continue #have to use try and except to avoid float argument error\n",
    "    \n",
    "    \n",
    "print(LAT) #list of all latitude values\n"
   ]
  },
  {
   "cell_type": "code",
   "execution_count": 3,
   "id": "e382fd92-5e34-4e54-afd4-3a5a4671e142",
   "metadata": {},
   "outputs": [],
   "source": [
    "import csv #import csv module\n",
    "\n",
    "outfile1= open('lat.csv', 'w')#create lat.csv file and indicate writing file by 'w'\n",
    "out = csv.writer(outfile1)\n",
    "\n",
    "out.writerows(\"T\") #name header row\n",
    "\n",
    "out.writerows(map(lambda x: [x], LAT)) #write each value in the LAT list as a row in the csv file\n",
    "\n",
    "outfile1.close() #close file"
   ]
  },
  {
   "cell_type": "markdown",
   "id": "717bb4a5-ed95-4a98-ab12-233aa2ecf5bc",
   "metadata": {},
   "source": [
    "### Longitude:"
   ]
  },
  {
   "cell_type": "code",
   "execution_count": 4,
   "id": "73a37fc0-ef15-4d12-b03f-c8917eb02385",
   "metadata": {
    "tags": []
   },
   "outputs": [
    {
     "name": "stdout",
     "output_type": "stream",
     "text": [
      "[8.7347, 8.7355, 8.7344, 8.7389, 16.3149, 11.0284, 11.016, 10.4402, 10.7518, 11.108, 10.9658, 10.4021, 13.5721, 13.1516, 13.2779, 7.2496, 13.1516, 13.1534, 10.6102, 10.9666, 10.9666, 10.9106, 9.9071, 9.8221, 13.572, 13.572, 10.7948, 16.7102, 13.2532, 11.2547, 16.0576, 9.7622, 10.2179, 17.6777, 10.2179, 13.5782, 13.5782, 15.0248, 11.0307, 13.7224, 11.1543, 13.572, 13.7118, 11.132, 10.5972, 16.4843, 11.1724, 11.9559, 12.7231, 7.0816, 11.8101, 7.6304, 11.1994, 13.9077, 11.4687, 11.4743, 12.5533, 12.2046, 11.1898, 10.7934, 10.5739, 10.3522, 13.8063, 10.9892, 13.7224, 13.8335, 12.1013, 11.3018, 13.9051, 11.7867, 11.7633, 11.0466, 10.9096, 10.9096, 11.1838, 12.1042, 11.0159, 11.0159, 11.0159, 11.0466, 10.9096, 12.0548, 11.1769, 9.8789, 9.8881, 9.887, 12.0779, 12.1042, 11.1831, 12.9479, 11.0979, 12.0548, 12.1042, 9.9676, 12.9479, 10.0325, 10.6981, 11.5427, 10.0394, 10.6593, 10.0416, 10.7253, 9.3397, 11.2017, 13.9077, 12.488, 11.2017, 12.4886, 9.9519, 8.7808, 9.2854, 11.0569, 11.0569, 11.0569, 11.0569, 11.0393, 11.0464, 11.2017, 13.9077, 10.6406, 13.9077, 13.9077, 12.0493, 10.2179, 10.6401, 12.425, 10.9096, 15.093, 15.093, 11.1846, 10.9012, 13.9077, 13.9077, 11.0143, 11.0143, 12.9016, 13.9077, 10.9253, 8.752, 10.003, 16.2529, 10.031, 11.0951, 11.0951, 10.6918, 11.0464, 13.9077, 13.9318, 10.2179, 8.8025, 10.9431, 13.9797, 10.7934, 8.4402, 9.3488, 9.3488, 9.3397, 9.3397, 9.3397, 10.8996, 11.2017, 11.2017, 11.2017, 11.2017, 10.9253, 10.8996, 13.9077, 10.2179, 13.9077, 10.6406, 13.9077, 8.1343, 10.8996, 10.8996, 10.8996, 13.9077, 11.1691, 10.9253, 10.9253, 10.9253, 8.6933, 16.5115, 7.6665, 10.846, 10.0249, 10.0287, 10.665, 8.7371, 11.0569, 11.0569, 8.7383, 10.665, 12.688, 10.0234, 10.0688, 10.0407, 10.3343, 8.0, 13.5477, 16.5116, 7.5756, 12.323, 10.9892, 10.9892, 10.9892, 10.9892, 10.9892, 8.0, 8.8498, 16.7244, 15.0932, 9.9531, 9.9529, 9.9531, 11.2834, 10.6446, 12.7025, 8.4813, 8.9801, 8.9801, 13.4335, 12.7231, 16.1527, 16.2551, 14.5722, 16.6958, 11.095, 7.6667, 11.0951, 11.2059, 14.2009, 14.2009, 7.7198, 7.6667, 10.8236, 16.2568, 10.8333, 7.4895, 16.7008, 11.1132, 16.7007, 7.7074, 11.878, 16.752, 10.2179, 11.8344, 8.8025, 8.8026, 7.6388, 16.5566, 7.6667, 10.9942, 10.7864, 16.8618, 13.7579, 16.0783, 11.156, 14.2636, 14.3731, 13.3573, 10.9413, 10.0239, 16.7521, 11.318, 11.318, 10.9892, 14.2476, 14.2476, 14.2476, 16.682, 16.4347, 16.656, 16.6632, 7.7198, 11.1202, 18.2921, 16.6193, 13.7678, 7.7227, 12.3343, 8.9329, 16.6968, 16.6966, 16.398, 16.398, 15.0932, 16.6459, 16.8462, 14.3738, 11.9936, 12.4921, 8.6967, 16.5438, 11.0062, 11.0062, 11.0062, 11.0062, 11.2669, 10.3043, 11.0062, 11.0062, 11.0062, 11.2834, 11.2834, 11.2017, 10.2179, 11.2834, 11.2017, 12.9013, 11.4663, 13.768, 11.0853, 13.768, 10.4395, 11.9596, 10.9892, 11.0856, 10.8512, 10.8512, 9.9028, 14.8746, 10.3519, 11.9507, 10.9892, 11.5252, 11.5252, 11.2945, 11.1923, 10.2179, 10.9892, 11.0555, 8.721, 8.1776, 11.3264, 9.042, 10.9433, 13.6983, 9.3397, 10.9892, 9.3397, 10.9892, 11.2462, 8.4108, 16.7533, 16.7517457005306, 11.2834, 11.8529, 13.9797, 11.3374, 8.4217, 13.626, 10.665, 16.1915745738224, 11.2462, 13.626, 8.4842, 8.1265, 12.7025, 12.2247, 10.0235, 8.9692, 14.3065, 13.768, 10.0243, 11.2834, 10.8352, 11.2834, 13.768, 8.5125, 16.635, 16.752, 16.7447, 16.6377, 12.9012, 16.752, 16.7619, 8.8026, 8.8026, 8.8026, 16.7633, 10.3565, 10.3565, 10.9892, 7.7001, 8.4047, 16.1926, 11.0348, 11.2834, 12.901, 16.7104, 16.5184, 13.7118, 13.7098, 8.4842, 16.5129, 10.8352, 11.2834, 14.0598, 10.9413, 16.5238, 10.1646, 16.5239, 13.414, 10.5389, 10.0132, 11.1153, 10.5384, 11.2242, 13.5003, 8.6933, 10.7934, 10.622, 11.0176, 11.0176, 10.9311, 10.9311, 10.0318, 10.6396, 10.9253, 10.9253, 11.8186, 13.4309, 10.7709, 10.6403, 10.6401, 10.3522, 13.8046, 8.0515, 10.6494, 13.9077, 13.9077, 13.9077, 10.6411, 13.9077, 12.323, 8.5113, 10.6402, 11.2519, 10.3238, 10.2179, 10.6402, 10.3238, 11.0406, 11.1574, 11.1574, 11.1543, 7.553, 11.1574, 11.0405, 10.9368, 7.0765, 11.1543, 11.8027, 10.9725, 10.498, 10.0198, 9.0906, 10.6406, 13.9077, 13.9077, 13.9077, 8.6933, 10.6403, 10.2179, 8.7175, 9.7675, 8.7103, 12.1099, 11.1413, 11.2171, 10.9441, 13.9077, 13.9077, 10.2179, 15.093, 13.9318, 13.6983, 13.9077, 10.2179, 12.1995, 11.0464, 11.0869, 13.9077, 9.9654, 10.9253, 11.3952, 11.2834, 11.1923, 10.347, 8.6933, 8.6933, 14.3771, 9.3488, 10.2179, 10.2179, 10.3106, 10.8996, 10.6204, 10.8995]\n"
     ]
    }
   ],
   "source": [
    "LNG = [] #create empty list\n",
    "\n",
    "\n",
    "for recording in recordings: #loop through each recording\n",
    "    \n",
    "    try:\n",
    "        LNG.append(float(recording[\"lng\"])) #add longitude from each recording to the list as a float\n",
    "    \n",
    "    except:\n",
    "        continue #avoid float argument error\n",
    "    \n",
    "    \n",
    "print(LNG) #list of all longitude values"
   ]
  },
  {
   "cell_type": "code",
   "execution_count": 5,
   "id": "24062f7c-dece-464e-869d-08e610f84ab6",
   "metadata": {},
   "outputs": [],
   "source": [
    "outfile2 = open('lng.csv', 'w') #create lng.csv file and indicate writing file by 'w'\n",
    "out2 = csv.writer(outfile2)\n",
    "\n",
    "out2.writerows(\"G\") #name header row\n",
    "\n",
    "out2.writerows(map(lambda x: [x], LNG)) #write each value in the LNG list as a row in the csv file\n",
    "\n",
    "outfile2.close() #close file"
   ]
  },
  {
   "cell_type": "markdown",
   "id": "650f004b-b799-4c7f-9cab-1fa8a23c1562",
   "metadata": {},
   "source": [
    "## Configuring data\n",
    "\n",
    "Using `pandas`, I combined the two columns into a single dataframe."
   ]
  },
  {
   "cell_type": "code",
   "execution_count": 6,
   "id": "d95e487f-c855-4a16-b896-6560109f8616",
   "metadata": {
    "tags": []
   },
   "outputs": [
    {
     "name": "stdout",
     "output_type": "stream",
     "text": [
      "     Latitude  Longitude\n",
      "0     45.5663     8.7347\n",
      "1     45.5651     8.7355\n",
      "2     45.5668     8.7344\n",
      "3     45.5647     8.7389\n",
      "4     39.8335    16.3149\n",
      "..        ...        ...\n",
      "494   45.3680    10.2179\n",
      "495   43.5485    10.3106\n",
      "496   42.7688    10.8996\n",
      "497   43.7553    10.6204\n",
      "498   42.7688    10.8995\n",
      "\n",
      "[499 rows x 2 columns]\n"
     ]
    }
   ],
   "source": [
    "import pandas as pd #load pandas module \n",
    "\n",
    "lat = pd.read_csv('lat.csv') #load latitude csv file as dataframe\n",
    "\n",
    "lng = pd.read_csv('lng.csv') #load longitude csv file as dataframe\n",
    "\n",
    "#combine dataframes\n",
    "combined = pd.concat([lat, lng], axis=1, ignore_index=True, sort=False) #axis specifies columns and ignore_index=True avoids duplicating the number of rows\n",
    "\n",
    "combined.columns = [\"Latitude\", \"Longitude\"] #rename columns. default is numbers (0,1), which just makes life harder later\n",
    "\n",
    "print(combined) #preview of dataframe"
   ]
  },
  {
   "cell_type": "markdown",
   "id": "e0423b3b-ef01-46ec-8e21-fb8130ba979b",
   "metadata": {},
   "source": [
    "Next, I worked created a single column with the coordinates as tuples and Shapely points for mapping. I followed the tutorial at https://datascience.quantecon.org/applications/maps.html"
   ]
  },
  {
   "cell_type": "code",
   "execution_count": 7,
   "id": "3939cc20-fdf0-4a43-8572-24306809df15",
   "metadata": {},
   "outputs": [],
   "source": [
    "#import more modules\n",
    "import geopandas as gpd\n",
    "import matplotlib.pyplot as plt\n",
    "from shapely.geometry import Point\n",
    "\n",
    "%matplotlib inline "
   ]
  },
  {
   "cell_type": "code",
   "execution_count": 8,
   "id": "f4561e47-d250-4fba-860c-8e33d26dcef2",
   "metadata": {},
   "outputs": [
    {
     "data": {
      "text/html": [
       "<div>\n",
       "<style scoped>\n",
       "    .dataframe tbody tr th:only-of-type {\n",
       "        vertical-align: middle;\n",
       "    }\n",
       "\n",
       "    .dataframe tbody tr th {\n",
       "        vertical-align: top;\n",
       "    }\n",
       "\n",
       "    .dataframe thead th {\n",
       "        text-align: right;\n",
       "    }\n",
       "</style>\n",
       "<table border=\"1\" class=\"dataframe\">\n",
       "  <thead>\n",
       "    <tr style=\"text-align: right;\">\n",
       "      <th></th>\n",
       "      <th>Latitude</th>\n",
       "      <th>Longitude</th>\n",
       "      <th>Coordinates</th>\n",
       "    </tr>\n",
       "  </thead>\n",
       "  <tbody>\n",
       "    <tr>\n",
       "      <th>0</th>\n",
       "      <td>45.5663</td>\n",
       "      <td>8.7347</td>\n",
       "      <td>POINT (8.7347 45.5663)</td>\n",
       "    </tr>\n",
       "    <tr>\n",
       "      <th>1</th>\n",
       "      <td>45.5651</td>\n",
       "      <td>8.7355</td>\n",
       "      <td>POINT (8.7355 45.5651)</td>\n",
       "    </tr>\n",
       "    <tr>\n",
       "      <th>2</th>\n",
       "      <td>45.5668</td>\n",
       "      <td>8.7344</td>\n",
       "      <td>POINT (8.7344 45.5668)</td>\n",
       "    </tr>\n",
       "    <tr>\n",
       "      <th>3</th>\n",
       "      <td>45.5647</td>\n",
       "      <td>8.7389</td>\n",
       "      <td>POINT (8.7389 45.5647)</td>\n",
       "    </tr>\n",
       "    <tr>\n",
       "      <th>4</th>\n",
       "      <td>39.8335</td>\n",
       "      <td>16.3149</td>\n",
       "      <td>POINT (16.3149 39.8335)</td>\n",
       "    </tr>\n",
       "  </tbody>\n",
       "</table>\n",
       "</div>"
      ],
      "text/plain": [
       "   Latitude  Longitude              Coordinates\n",
       "0   45.5663     8.7347   POINT (8.7347 45.5663)\n",
       "1   45.5651     8.7355   POINT (8.7355 45.5651)\n",
       "2   45.5668     8.7344   POINT (8.7344 45.5668)\n",
       "3   45.5647     8.7389   POINT (8.7389 45.5647)\n",
       "4   39.8335    16.3149  POINT (16.3149 39.8335)"
      ]
     },
     "execution_count": 8,
     "metadata": {},
     "output_type": "execute_result"
    }
   ],
   "source": [
    "#create a new column with the coordinates as a tuple\n",
    "combined[\"Coordinates\"] = list(zip(combined.Longitude, combined.Latitude)) #note, longitude first for x-axis\n",
    "\n",
    "combined[\"Coordinates\"] = combined[\"Coordinates\"].apply(Point) #turn the coordinates into a shapely point\n",
    "\n",
    "combined.head() #see new column"
   ]
  },
  {
   "cell_type": "markdown",
   "id": "b7cc1a10-9766-456e-abbc-50fd259fd5f0",
   "metadata": {},
   "source": [
    "I converted the dataframe into a GeoDataFrame and the coordinates column into a geometry column for mapping."
   ]
  },
  {
   "cell_type": "code",
   "execution_count": 9,
   "id": "7461ace5-fe5e-4c5a-a13e-79587c3c9b40",
   "metadata": {},
   "outputs": [
    {
     "data": {
      "text/html": [
       "<div>\n",
       "<style scoped>\n",
       "    .dataframe tbody tr th:only-of-type {\n",
       "        vertical-align: middle;\n",
       "    }\n",
       "\n",
       "    .dataframe tbody tr th {\n",
       "        vertical-align: top;\n",
       "    }\n",
       "\n",
       "    .dataframe thead th {\n",
       "        text-align: right;\n",
       "    }\n",
       "</style>\n",
       "<table border=\"1\" class=\"dataframe\">\n",
       "  <thead>\n",
       "    <tr style=\"text-align: right;\">\n",
       "      <th></th>\n",
       "      <th>Latitude</th>\n",
       "      <th>Longitude</th>\n",
       "      <th>Coordinates</th>\n",
       "    </tr>\n",
       "  </thead>\n",
       "  <tbody>\n",
       "    <tr>\n",
       "      <th>0</th>\n",
       "      <td>45.5663</td>\n",
       "      <td>8.7347</td>\n",
       "      <td>POINT (8.73470 45.56630)</td>\n",
       "    </tr>\n",
       "    <tr>\n",
       "      <th>1</th>\n",
       "      <td>45.5651</td>\n",
       "      <td>8.7355</td>\n",
       "      <td>POINT (8.73550 45.56510)</td>\n",
       "    </tr>\n",
       "    <tr>\n",
       "      <th>2</th>\n",
       "      <td>45.5668</td>\n",
       "      <td>8.7344</td>\n",
       "      <td>POINT (8.73440 45.56680)</td>\n",
       "    </tr>\n",
       "    <tr>\n",
       "      <th>3</th>\n",
       "      <td>45.5647</td>\n",
       "      <td>8.7389</td>\n",
       "      <td>POINT (8.73890 45.56470)</td>\n",
       "    </tr>\n",
       "    <tr>\n",
       "      <th>4</th>\n",
       "      <td>39.8335</td>\n",
       "      <td>16.3149</td>\n",
       "      <td>POINT (16.31490 39.83350)</td>\n",
       "    </tr>\n",
       "  </tbody>\n",
       "</table>\n",
       "</div>"
      ],
      "text/plain": [
       "   Latitude  Longitude                Coordinates\n",
       "0   45.5663     8.7347   POINT (8.73470 45.56630)\n",
       "1   45.5651     8.7355   POINT (8.73550 45.56510)\n",
       "2   45.5668     8.7344   POINT (8.73440 45.56680)\n",
       "3   45.5647     8.7389   POINT (8.73890 45.56470)\n",
       "4   39.8335    16.3149  POINT (16.31490 39.83350)"
      ]
     },
     "execution_count": 9,
     "metadata": {},
     "output_type": "execute_result"
    }
   ],
   "source": [
    "#convert dataframe into a GeoDataFrame\n",
    "\n",
    "gdf = gpd.GeoDataFrame(combined, geometry=\"Coordinates\")\n",
    "\n",
    "gdf.head() #see that the dataframe appears the same\n"
   ]
  },
  {
   "cell_type": "code",
   "execution_count": 10,
   "id": "787c7e2b-13c4-4148-bff3-954a593e5788",
   "metadata": {},
   "outputs": [
    {
     "name": "stdout",
     "output_type": "stream",
     "text": [
      "gdf is of type: <class 'geopandas.geodataframe.GeoDataFrame'>\n",
      "\n",
      "The geometry column is: Coordinates\n"
     ]
    }
   ],
   "source": [
    "#verify dataframe type and proper geometry column\n",
    "print('gdf is of type:', type(gdf))\n",
    "\n",
    "print('\\nThe geometry column is:', gdf.geometry.name)"
   ]
  },
  {
   "cell_type": "markdown",
   "id": "d5fe999e-16c7-4213-8f54-55bfd5e27941",
   "metadata": {},
   "source": [
    "## Mapping\n",
    "\n",
    "I pulled the map of Italy from the Natural Earth dataset bundled in `geopandas`"
   ]
  },
  {
   "cell_type": "code",
   "execution_count": 11,
   "id": "0e4f3519-69ec-4553-8b83-c21cf0b6aa83",
   "metadata": {},
   "outputs": [
    {
     "data": {
      "text/html": [
       "<div>\n",
       "<style scoped>\n",
       "    .dataframe tbody tr th:only-of-type {\n",
       "        vertical-align: middle;\n",
       "    }\n",
       "\n",
       "    .dataframe tbody tr th {\n",
       "        vertical-align: top;\n",
       "    }\n",
       "\n",
       "    .dataframe thead th {\n",
       "        text-align: right;\n",
       "    }\n",
       "</style>\n",
       "<table border=\"1\" class=\"dataframe\">\n",
       "  <thead>\n",
       "    <tr style=\"text-align: right;\">\n",
       "      <th></th>\n",
       "      <th>pop_est</th>\n",
       "      <th>continent</th>\n",
       "      <th>name</th>\n",
       "      <th>gdp_md_est</th>\n",
       "      <th>geometry</th>\n",
       "    </tr>\n",
       "    <tr>\n",
       "      <th>iso_a3</th>\n",
       "      <th></th>\n",
       "      <th></th>\n",
       "      <th></th>\n",
       "      <th></th>\n",
       "      <th></th>\n",
       "    </tr>\n",
       "  </thead>\n",
       "  <tbody>\n",
       "    <tr>\n",
       "      <th>FJI</th>\n",
       "      <td>889953.0</td>\n",
       "      <td>Oceania</td>\n",
       "      <td>Fiji</td>\n",
       "      <td>5496</td>\n",
       "      <td>MULTIPOLYGON (((180.00000 -16.06713, 180.00000...</td>\n",
       "    </tr>\n",
       "    <tr>\n",
       "      <th>TZA</th>\n",
       "      <td>58005463.0</td>\n",
       "      <td>Africa</td>\n",
       "      <td>Tanzania</td>\n",
       "      <td>63177</td>\n",
       "      <td>POLYGON ((33.90371 -0.95000, 34.07262 -1.05982...</td>\n",
       "    </tr>\n",
       "    <tr>\n",
       "      <th>ESH</th>\n",
       "      <td>603253.0</td>\n",
       "      <td>Africa</td>\n",
       "      <td>W. Sahara</td>\n",
       "      <td>907</td>\n",
       "      <td>POLYGON ((-8.66559 27.65643, -8.66512 27.58948...</td>\n",
       "    </tr>\n",
       "    <tr>\n",
       "      <th>CAN</th>\n",
       "      <td>37589262.0</td>\n",
       "      <td>North America</td>\n",
       "      <td>Canada</td>\n",
       "      <td>1736425</td>\n",
       "      <td>MULTIPOLYGON (((-122.84000 49.00000, -122.9742...</td>\n",
       "    </tr>\n",
       "    <tr>\n",
       "      <th>USA</th>\n",
       "      <td>328239523.0</td>\n",
       "      <td>North America</td>\n",
       "      <td>United States of America</td>\n",
       "      <td>21433226</td>\n",
       "      <td>MULTIPOLYGON (((-122.84000 49.00000, -120.0000...</td>\n",
       "    </tr>\n",
       "  </tbody>\n",
       "</table>\n",
       "</div>"
      ],
      "text/plain": [
       "            pop_est      continent                      name  gdp_md_est  \\\n",
       "iso_a3                                                                     \n",
       "FJI        889953.0        Oceania                      Fiji        5496   \n",
       "TZA      58005463.0         Africa                  Tanzania       63177   \n",
       "ESH        603253.0         Africa                 W. Sahara         907   \n",
       "CAN      37589262.0  North America                    Canada     1736425   \n",
       "USA     328239523.0  North America  United States of America    21433226   \n",
       "\n",
       "                                                 geometry  \n",
       "iso_a3                                                     \n",
       "FJI     MULTIPOLYGON (((180.00000 -16.06713, 180.00000...  \n",
       "TZA     POLYGON ((33.90371 -0.95000, 34.07262 -1.05982...  \n",
       "ESH     POLYGON ((-8.66559 27.65643, -8.66512 27.58948...  \n",
       "CAN     MULTIPOLYGON (((-122.84000 49.00000, -122.9742...  \n",
       "USA     MULTIPOLYGON (((-122.84000 49.00000, -120.0000...  "
      ]
     },
     "execution_count": 11,
     "metadata": {},
     "output_type": "execute_result"
    }
   ],
   "source": [
    "#get natural earth dataset\n",
    "world = gpd.read_file(gpd.datasets.get_path(\"naturalearth_lowres\"))\n",
    "world = world.set_index(\"iso_a3\")\n",
    "\n",
    "world.head() #see dataset structure"
   ]
  },
  {
   "cell_type": "markdown",
   "id": "0e5b88db-df53-4c6b-8b6c-1b165a1fba9e",
   "metadata": {},
   "source": [
    "Lastly, I created a plot, inserted the outline of the country shape, and added my coordinates for each bird song recording."
   ]
  },
  {
   "cell_type": "code",
   "execution_count": 13,
   "id": "19d9da8a-2057-4559-9c87-a17b9bf2171c",
   "metadata": {},
   "outputs": [
    {
     "data": {
      "image/png": "[encoded data removed]",
      "text/plain": [
       "<Figure size 720x720 with 1 Axes>"
      ]
     },
     "metadata": {
      "needs_background": "light"
     },
     "output_type": "display_data"
    }
   ],
   "source": [
    "#create blank plot\n",
    "fig, gax = plt.subplots(figsize=(10,10)) \n",
    "\n",
    "#add map of Italy\n",
    "world.query(\"name == 'Italy'\").plot(ax=gax, edgecolor='black',color='white') #specify country from name column\n",
    "\n",
    "#add points for coordinates of individual bird song recordings\n",
    "gdf.plot(ax=gax, color='green', alpha = 0.5)\n",
    "\n",
    "#label map axes and add title\n",
    "gax.set_xlabel('Longitude')\n",
    "gax.set_ylabel('Latitude')\n",
    "gax.set_title('Bird Song Recordings in Italy')\n",
    "\n",
    "plt.show() #display plot\n"
   ]
  },
  {
   "cell_type": "code",
   "execution_count": null,
   "id": "23a43e6d-2d91-4891-a34c-22447f77d1f7",
   "metadata": {},
   "outputs": [],
   "source": []
  }
 ],
 "metadata": {
  "kernelspec": {
   "display_name": "UFRC Python-3.10",
   "language": "python",
   "name": "python3-3.10-ufrc"
  },
  "language_info": {
   "codemirror_mode": {
    "name": "ipython",
    "version": 3
   },
   "file_extension": ".py",
   "mimetype": "text/x-python",
   "name": "python",
   "nbconvert_exporter": "python",
   "pygments_lexer": "ipython3",
   "version": "3.10.5"
  }
 },
 "nbformat": 4,
 "nbformat_minor": 5
}
